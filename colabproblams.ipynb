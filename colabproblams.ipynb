{
  "nbformat": 4,
  "nbformat_minor": 0,
  "metadata": {
    "colab": {
      "provenance": [],
      "mount_file_id": "1MZAICnLVHaHi0tWIROjNLQ4SuzF6sgKU",
      "authorship_tag": "ABX9TyMQxWgomE7iTBz72FlvwipQ",
      "include_colab_link": true
    },
    "kernelspec": {
      "name": "python3",
      "display_name": "Python 3"
    },
    "language_info": {
      "name": "python"
    }
  },
  "cells": [
    {
      "cell_type": "markdown",
      "metadata": {
        "id": "view-in-github",
        "colab_type": "text"
      },
      "source": [
        "<a href=\"https://colab.research.google.com/github/NarasimhaMachineni/Narasimha/blob/main/colabproblams.ipynb\" target=\"_parent\"><img src=\"https://colab.research.google.com/assets/colab-badge.svg\" alt=\"Open In Colab\"/></a>"
      ]
    },
    {
      "cell_type": "markdown",
      "source": [
        "Hardcoding Variables"
      ],
      "metadata": {
        "id": "6yL2BduxugG6"
      }
    },
    {
      "cell_type": "code",
      "source": [
        "# Hardcoding values\n",
        "num1 = 10\n",
        "num2 = 20\n",
        "result = num1 + num2\n",
        "print(f\"Sum of {num1} and {num2} is {result}\")\n"
      ],
      "metadata": {
        "colab": {
          "base_uri": "https://localhost:8080/"
        },
        "id": "jxnEzLkom6p7",
        "outputId": "547cf3cb-c42a-4f5b-e132-ec9b632bf7f4"
      },
      "execution_count": 2,
      "outputs": [
        {
          "output_type": "stream",
          "name": "stdout",
          "text": [
            "Sum of 10 and 20 is 30\n"
          ]
        }
      ]
    },
    {
      "cell_type": "markdown",
      "source": [
        "Keyboard Input"
      ],
      "metadata": {
        "id": "Rb9yVFp5uHQ6"
      }
    },
    {
      "cell_type": "code",
      "source": [
        "# Accepting input from the user\n",
        "num1 = int(input(\"Enter first number: \"))\n",
        "num2 = int(input(\"Enter second number: \"))\n",
        "result = num1 + num2\n",
        "print(f\"Sum of {num1} and {num2} is {result}\")\n"
      ],
      "metadata": {
        "colab": {
          "base_uri": "https://localhost:8080/"
        },
        "id": "flMFRqEhtSE7",
        "outputId": "10354307-fdb4-4f31-b312-1987180560c7"
      },
      "execution_count": 4,
      "outputs": [
        {
          "output_type": "stream",
          "name": "stdout",
          "text": [
            "Enter first number: 5\n",
            "Enter second number: 5\n",
            "Sum of 5 and 5 is 10\n"
          ]
        }
      ]
    },
    {
      "cell_type": "markdown",
      "source": [
        "3.\tRead From File (Single Input)"
      ],
      "metadata": {
        "id": "FgWL3zLrvrpo"
      }
    },
    {
      "cell_type": "code",
      "source": [
        "# Creating single_input.txt\n",
        "with open(\"single_input.txt\", \"w\") as file:\n",
        "    file.write(\"25\")  # Writing a single value\n",
        "print(\"single_input.txt created successfully!\")"
      ],
      "metadata": {
        "colab": {
          "base_uri": "https://localhost:8080/"
        },
        "id": "MiK2BKMmviGJ",
        "outputId": "07c700a9-5b10-4fab-ea33-846569936f4c"
      },
      "execution_count": 8,
      "outputs": [
        {
          "output_type": "stream",
          "name": "stdout",
          "text": [
            "single_input.txt created successfully!\n"
          ]
        }
      ]
    },
    {
      "cell_type": "code",
      "source": [
        "# Reading a single input from a file\n",
        "try:\n",
        "    with open(\"single_input.txt\", \"r\") as file:\n",
        "        num = int(file.read().strip())  # Read and strip whitespace\n",
        "        result = num * 2  # Example: Double the number\n",
        "        print(f\"Double of the number in the file is {result}\")\n",
        "except FileNotFoundError:\n",
        "    print(\"Error: 'single_input.txt' not found. Please add the file to the working directory.\")\n",
        "except ValueError:\n",
        "    print(\"Error: The file does not contain a valid integer.\")\n"
      ],
      "metadata": {
        "colab": {
          "base_uri": "https://localhost:8080/"
        },
        "id": "O5pcLLlwvlMQ",
        "outputId": "1fb47a47-a0e3-4b0a-f19f-df4cdcc1b454"
      },
      "execution_count": 9,
      "outputs": [
        {
          "output_type": "stream",
          "name": "stdout",
          "text": [
            "Double of the number in the file is 50\n"
          ]
        }
      ]
    },
    {
      "cell_type": "markdown",
      "source": [
        "4.\tRead From File (Multiple Inputs):"
      ],
      "metadata": {
        "id": "WAUHZWiAwQ0o"
      }
    },
    {
      "cell_type": "code",
      "source": [
        "# Creating multiple_inputs.txt\n",
        "with open(\"multiple_inputs.txt\", \"w\") as file:\n",
        "    file.writelines([\"10\\n\", \"20\\n\", \"30\\n\"])  # Writing multiple values\n",
        "print(\"multiple_inputs.txt created successfully!\")"
      ],
      "metadata": {
        "colab": {
          "base_uri": "https://localhost:8080/"
        },
        "id": "aimD4joLv0SQ",
        "outputId": "5ae9f833-71bb-4bd7-9657-513daadecedb"
      },
      "execution_count": 11,
      "outputs": [
        {
          "output_type": "stream",
          "name": "stdout",
          "text": [
            "multiple_inputs.txt created successfully!\n"
          ]
        }
      ]
    },
    {
      "cell_type": "code",
      "source": [
        "# Reading multiple inputs from a file\n",
        "try:\n",
        "    with open(\"multiple_inputs.txt\", \"r\") as file:\n",
        "        numbers = file.readlines()  # Read all lines\n",
        "        numbers = [int(num.strip()) for num in numbers]  # Convert to integers\n",
        "        total = sum(numbers)  # Sum the numbers\n",
        "        print(f\"Sum of numbers in the file is {total}\")\n",
        "except FileNotFoundError:\n",
        "    print(\"Error: 'multiple_inputs.txt' not found. Please add the file to the working directory.\")\n",
        "except ValueError:\n",
        "    print(\"Error: The file contains non-integer values. Please check the content.\")\n"
      ],
      "metadata": {
        "colab": {
          "base_uri": "https://localhost:8080/"
        },
        "id": "ebwJ_X0BwC0o",
        "outputId": "e863dc5d-8926-425d-eab8-d6335173dfc7"
      },
      "execution_count": 12,
      "outputs": [
        {
          "output_type": "stream",
          "name": "stdout",
          "text": [
            "Sum of numbers in the file is 60\n"
          ]
        }
      ]
    },
    {
      "cell_type": "markdown",
      "source": [
        "5.\tSave All Versions"
      ],
      "metadata": {
        "id": "UMcWZqLfwk8A"
      }
    },
    {
      "cell_type": "code",
      "source": [
        "# Save each version into separate Python files\n",
        "with open(\"step_3_single_input.py\", \"w\") as f:\n",
        "    f.write(\"\"\"\n",
        "try:\n",
        "    with open(\"single_input.txt\", \"r\") as file:\n",
        "        num = int(file.read().strip())\n",
        "        result = num * 2\n",
        "        print(f\"Double of the number in the file is {result}\")\n",
        "except FileNotFoundError:\n",
        "    print(\"Error: 'single_input.txt' not found.\")\n",
        "except ValueError:\n",
        "    print(\"Error: The file does not contain a valid integer.\")\n",
        "    \"\"\")\n",
        "\n",
        "with open(\"step_4_multiple_inputs.py\", \"w\") as f:\n",
        "    f.write(\"\"\"\n",
        "try:\n",
        "    with open(\"multiple_inputs.txt\", \"r\") as file:\n",
        "        numbers = file.readlines()\n",
        "        numbers = [int(num.strip()) for num in numbers]\n",
        "        total = sum(numbers)\n",
        "        print(f\"Sum of numbers in the file is {total}\")\n",
        "except FileNotFoundError:\n",
        "    print(\"Error: 'multiple_inputs.txt' not found.\")\n",
        "except ValueError:\n",
        "    print(\"Error: The file contains non-integer values.\")\n",
        "    \"\"\")\n"
      ],
      "metadata": {
        "id": "qFmAQkUVwSeQ"
      },
      "execution_count": 14,
      "outputs": []
    },
    {
      "cell_type": "code",
      "source": [],
      "metadata": {
        "id": "GmTKRGOewoRY"
      },
      "execution_count": null,
      "outputs": []
    }
  ]
}